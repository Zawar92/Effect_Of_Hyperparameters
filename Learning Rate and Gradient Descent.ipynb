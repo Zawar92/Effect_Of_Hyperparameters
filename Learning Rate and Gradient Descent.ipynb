{
 "cells": [
  {
   "cell_type": "markdown",
   "metadata": {},
   "source": [
    "# Effect Of Larning Rate, Optimizers, Momentum on Data"
   ]
  },
  {
   "cell_type": "code",
   "execution_count": 16,
   "metadata": {
    "ExecuteTime": {
     "end_time": "2022-02-13T18:29:54.522966Z",
     "start_time": "2022-02-13T18:29:54.448348Z"
    }
   },
   "outputs": [],
   "source": [
    "from sklearn.datasets import make_blobs\n",
    "from keras.layers import Dense\n",
    "import tensorflow as tf\n",
    "import keras\n",
    "from tensorflow.keras import layers\n",
    "from tensorflow.keras.models import Sequential\n",
    "from keras.optimizers import SGD\n",
    "from keras.utils import to_categorical\n",
    "from matplotlib import pyplot\n",
    "from numpy import where\n",
    "import pandas as pd\n",
    "from sklearn.model_selection import train_test_split"
   ]
  },
  {
   "cell_type": "code",
   "execution_count": 10,
   "metadata": {
    "ExecuteTime": {
     "end_time": "2022-02-13T18:23:55.279013Z",
     "start_time": "2022-02-13T18:23:55.264012Z"
    }
   },
   "outputs": [],
   "source": [
    "def scatter_of_data(X, y):\n",
    "    print(X.shape)\n",
    "    for class_value in range(2):\n",
    "        row_ix = where(y == class_value)\n",
    "        pyplot.scatter(X[row_ix, 0], X[row_ix, 1])\n",
    "    pyplot.show()"
   ]
  },
  {
   "cell_type": "markdown",
   "metadata": {},
   "source": [
    "## Data Preprocess"
   ]
  },
  {
   "cell_type": "code",
   "execution_count": 47,
   "metadata": {
    "ExecuteTime": {
     "end_time": "2022-02-13T18:40:37.300180Z",
     "start_time": "2022-02-13T18:40:37.277180Z"
    }
   },
   "outputs": [],
   "source": [
    "df_train = pd.read_csv(\"<name_of_csv>.csv\", sep=\";\")"
   ]
  },
  {
   "cell_type": "code",
   "execution_count": 4,
   "metadata": {
    "ExecuteTime": {
     "end_time": "2022-02-13T18:23:05.254093Z",
     "start_time": "2022-02-13T18:23:05.235086Z"
    }
   },
   "outputs": [
    {
     "name": "stdout",
     "output_type": "stream",
     "text": [
      "Features:  ['feature_0', 'feature_1', 'feature_2', 'feature_3', 'feature_4', 'feature_5', 'feature_6', 'feature_7', 'feature_8', 'feature_9', 'feature_10', 'feature_11', 'feature_12', 'feature_13', 'feature_14', 'feature_15', 'feature_16', 'feature_17', 'feature_18', 'feature_19', 'feature_20', 'feature_21', 'feature_22', 'feature_23', 'feature_24', 'feature_25', 'feature_26', 'feature_27', 'feature_28', 'feature_29', 'feature_30', 'feature_31', 'feature_32', 'feature_33', 'feature_34', 'feature_35', 'feature_36', 'feature_37', 'feature_38', 'feature_39', 'feature_40', 'feature_41', 'feature_42', 'feature_43', 'feature_44', 'feature_45', 'feature_46', 'feature_47', 'feature_48', 'feature_49', 'feature_50', 'feature_51', 'feature_52', 'feature_53', 'feature_54', 'feature_55', 'feature_56', 'feature_57', 'feature_58']\n",
      "\n",
      "\n",
      "Labels:  target\n"
     ]
    }
   ],
   "source": [
    "features = list(df_train.columns[:-1])\n",
    "label = df_train.columns[-1]\n",
    "print(\"Features: \", features)\n",
    "print(\"\\n\")\n",
    "print(\"Labels: \", label)"
   ]
  },
  {
   "cell_type": "code",
   "execution_count": 11,
   "metadata": {
    "ExecuteTime": {
     "end_time": "2022-02-13T18:23:57.142002Z",
     "start_time": "2022-02-13T18:23:57.129004Z"
    }
   },
   "outputs": [
    {
     "name": "stdout",
     "output_type": "stream",
     "text": [
      "[[0.   0.   0.   ... 0.   0.   0.  ]\n",
      " [0.   0.   0.   ... 0.   0.76 0.15]\n",
      " [0.   0.   0.   ... 0.   0.   0.  ]\n",
      " ...\n",
      " [0.   0.   0.   ... 0.   0.   0.  ]\n",
      " [0.   0.   0.   ... 0.   0.   0.  ]\n",
      " [0.   0.   0.   ... 0.   0.   0.  ]] (795, 59)\n",
      "[1 1 1 1 1 1 1 1 1 1 1 1 1 1 1 1 1 1 1 1 1 1 1 1 1 1 1 1 1 1 1 1 1 1 1 1 1\n",
      " 1 1 1 1 1 1 1 1 1 1 1 1 1 1 1 1 1 1 1 1 1 1 1 1 1 1 1 1 1 1 1 1 1 1 1 1 1\n",
      " 1 1 1 1 1 1 1 1 1 1 1 1 1 1 1 1 1 1 1 1 1 1 1 1 1 1 1 1 1 1 1 1 1 1 1 1 1\n",
      " 1 1 1 1 1 1 1 1 1 1 1 1 1 1 1 1 1 1 1 1 1 1 1 1 1 1 1 1 1 1 1 1 1 1 1 1 1\n",
      " 1 1 1 1 1 1 1 1 1 1 1 1 1 1 1 1 1 1 1 1 1 1 1 1 1 1 1 1 1 1 1 1 1 1 1 1 1\n",
      " 1 1 1 1 1 1 1 1 1 1 1 1 1 1 1 1 1 1 1 1 1 1 1 1 1 1 1 1 1 1 1 1 1 1 1 1 1\n",
      " 1 1 1 1 1 1 1 1 1 1 1 1 1 1 1 1 1 1 1 1 1 1 1 1 1 1 1 1 1 1 1 1 1 1 1 1 1\n",
      " 1 1 1 1 1 1 1 1 1 1 1 1 1 1 1 1 1 1 1 1 1 1 1 1 1 1 1 1 1 1 1 1 1 1 1 1 1\n",
      " 1 1 1 1 0 0 0 0 0 0 0 0 0 0 0 0 0 0 0 0 0 0 0 0 0 0 0 0 0 0 0 0 0 0 0 0 0\n",
      " 0 0 0 0 0 0 0 0 0 0 0 0 0 0 0 0 0 0 0 0 0 0 0 0 0 0 0 0 0 0 0 0 0 0 0 0 0\n",
      " 0 0 0 0 0 0 0 0 0 0 0 0 0 0 0 0 0 0 0 0 0 0 0 0 0 0 0 0 0 0 0 0 0 0 0 0 0\n",
      " 0 0 0 0 0 0 0 0 0 0 0 0 0 0 0 0 0 0 0 0 0 0 0 0 0 0 0 0 0 0 0 0 0 0 0 0 0\n",
      " 0 0 0 0 0 0 0 0 0 0 0 0 0 0 0 0 0 0 0 0 0 0 0 0 0 0 0 0 0 0 0 0 0 0 0 0 0\n",
      " 0 0 0 0 0 0 0 0 0 0 0 0 0 0 0 0 0 0 0 0 0 0 0 0 0 0 0 0 0 0 0 0 0 0 0 0 0\n",
      " 0 0 0 0 0 0 0 0 0 0 0 0 0 0 0 0 0 0 0 0 0 0 0 0 0 0 0 0 0 0 0 0 0 0 0 0 0\n",
      " 0 0 0 0 0 0 0 0 0 0 0 0 0 0 0 0 0 0 0 0 0 0 0 0 0 0 0 0 0 0 0 0 0 0 0 0 0\n",
      " 0 0 0 0 0 0 0 0 0 0 0 0 0 0 0 0 0 0 0 0 0 0 0 0 0 0 0 0 0 0 0 0 0 0 0 0 0\n",
      " 0 0 0 0 0 0 0 0 0 0 0 0 0 0 0 0 0 0 0 0 0 0 0 0 0 0 0 0 0 0 0 0 0 0 0 0 0\n",
      " 0 0 0 0 0 0 0 0 0 0 0 0 0 0 0 0 0 0 0 0 0 0 0 0 0 0 0 0 0 0 0 0 0 0 0 0 0\n",
      " 0 0 0 0 0 0 0 0 0 0 0 0 0 0 0 0 0 0 0 0 0 0 0 0 0 0 0 0 0 0 0 0 0 0 0 0 0\n",
      " 0 0 0 0 0 0 0 0 0 0 0 0 0 0 0 0 0 0 0 0 0 0 0 0 0 0 0 0 0 0 0 0 0 0 0 0 0\n",
      " 0 0 0 0 0 0 0 0 0 0 0 0 0 0 0 0 0 0] (795,)\n"
     ]
    }
   ],
   "source": [
    "X, y = df_train[features].values, df_train[label].values\n",
    "print(X, X.shape)\n",
    "print(y, y.shape)"
   ]
  },
  {
   "cell_type": "code",
   "execution_count": 12,
   "metadata": {
    "ExecuteTime": {
     "end_time": "2022-02-13T18:23:58.261614Z",
     "start_time": "2022-02-13T18:23:58.096618Z"
    }
   },
   "outputs": [
    {
     "name": "stdout",
     "output_type": "stream",
     "text": [
      "(795, 59)\n"
     ]
    },
    {
     "data": {
      "image/png": "[encoded data removed]",
      "text/plain": [
       "<Figure size 432x288 with 1 Axes>"
      ]
     },
     "metadata": {
      "needs_background": "light"
     },
     "output_type": "display_data"
    }
   ],
   "source": [
    "scatter_of_data(X, y)"
   ]
  },
  {
   "cell_type": "code",
   "execution_count": 13,
   "metadata": {
    "ExecuteTime": {
     "end_time": "2022-02-13T18:24:03.356511Z",
     "start_time": "2022-02-13T18:24:03.336528Z"
    }
   },
   "outputs": [],
   "source": [
    "from sklearn.preprocessing import StandardScaler\n",
    "\n",
    "X_scaled = df_train[features].values\n",
    "scaler = StandardScaler().fit(X_scaled)\n",
    "features_scaled = scaler.transform(X_scaled)\n",
    "df_train_scaled = pd.DataFrame(features_scaled, columns = features)\n",
    "df_train_scaled[\"target\"] = y"
   ]
  },
  {
   "cell_type": "code",
   "execution_count": 14,
   "metadata": {
    "ExecuteTime": {
     "end_time": "2022-02-13T18:24:03.984443Z",
     "start_time": "2022-02-13T18:24:03.975450Z"
    }
   },
   "outputs": [
    {
     "name": "stdout",
     "output_type": "stream",
     "text": [
      "[[-0.26313652 -0.13788497 -0.30327493 ... -0.07677318 -0.46738747\n",
      "  -0.22211904]\n",
      " [-0.26313652 -0.13788497 -0.30327493 ... -0.07677318  1.12035293\n",
      "   0.09708674]\n",
      " [-0.26313652 -0.13788497 -0.30327493 ... -0.07677318 -0.46738747\n",
      "  -0.22211904]\n",
      " ...\n",
      " [-0.26313652 -0.13788497 -0.30327493 ... -0.07677318 -0.46738747\n",
      "  -0.22211904]\n",
      " [-0.26313652 -0.13788497 -0.30327493 ... -0.07677318 -0.46738747\n",
      "  -0.22211904]\n",
      " [-0.26313652 -0.13788497 -0.30327493 ... -0.07677318 -0.46738747\n",
      "  -0.22211904]] (795, 59)\n",
      "[1 1 1 1 1 1 1 1 1 1 1 1 1 1 1 1 1 1 1 1 1 1 1 1 1 1 1 1 1 1 1 1 1 1 1 1 1\n",
      " 1 1 1 1 1 1 1 1 1 1 1 1 1 1 1 1 1 1 1 1 1 1 1 1 1 1 1 1 1 1 1 1 1 1 1 1 1\n",
      " 1 1 1 1 1 1 1 1 1 1 1 1 1 1 1 1 1 1 1 1 1 1 1 1 1 1 1 1 1 1 1 1 1 1 1 1 1\n",
      " 1 1 1 1 1 1 1 1 1 1 1 1 1 1 1 1 1 1 1 1 1 1 1 1 1 1 1 1 1 1 1 1 1 1 1 1 1\n",
      " 1 1 1 1 1 1 1 1 1 1 1 1 1 1 1 1 1 1 1 1 1 1 1 1 1 1 1 1 1 1 1 1 1 1 1 1 1\n",
      " 1 1 1 1 1 1 1 1 1 1 1 1 1 1 1 1 1 1 1 1 1 1 1 1 1 1 1 1 1 1 1 1 1 1 1 1 1\n",
      " 1 1 1 1 1 1 1 1 1 1 1 1 1 1 1 1 1 1 1 1 1 1 1 1 1 1 1 1 1 1 1 1 1 1 1 1 1\n",
      " 1 1 1 1 1 1 1 1 1 1 1 1 1 1 1 1 1 1 1 1 1 1 1 1 1 1 1 1 1 1 1 1 1 1 1 1 1\n",
      " 1 1 1 1 0 0 0 0 0 0 0 0 0 0 0 0 0 0 0 0 0 0 0 0 0 0 0 0 0 0 0 0 0 0 0 0 0\n",
      " 0 0 0 0 0 0 0 0 0 0 0 0 0 0 0 0 0 0 0 0 0 0 0 0 0 0 0 0 0 0 0 0 0 0 0 0 0\n",
      " 0 0 0 0 0 0 0 0 0 0 0 0 0 0 0 0 0 0 0 0 0 0 0 0 0 0 0 0 0 0 0 0 0 0 0 0 0\n",
      " 0 0 0 0 0 0 0 0 0 0 0 0 0 0 0 0 0 0 0 0 0 0 0 0 0 0 0 0 0 0 0 0 0 0 0 0 0\n",
      " 0 0 0 0 0 0 0 0 0 0 0 0 0 0 0 0 0 0 0 0 0 0 0 0 0 0 0 0 0 0 0 0 0 0 0 0 0\n",
      " 0 0 0 0 0 0 0 0 0 0 0 0 0 0 0 0 0 0 0 0 0 0 0 0 0 0 0 0 0 0 0 0 0 0 0 0 0\n",
      " 0 0 0 0 0 0 0 0 0 0 0 0 0 0 0 0 0 0 0 0 0 0 0 0 0 0 0 0 0 0 0 0 0 0 0 0 0\n",
      " 0 0 0 0 0 0 0 0 0 0 0 0 0 0 0 0 0 0 0 0 0 0 0 0 0 0 0 0 0 0 0 0 0 0 0 0 0\n",
      " 0 0 0 0 0 0 0 0 0 0 0 0 0 0 0 0 0 0 0 0 0 0 0 0 0 0 0 0 0 0 0 0 0 0 0 0 0\n",
      " 0 0 0 0 0 0 0 0 0 0 0 0 0 0 0 0 0 0 0 0 0 0 0 0 0 0 0 0 0 0 0 0 0 0 0 0 0\n",
      " 0 0 0 0 0 0 0 0 0 0 0 0 0 0 0 0 0 0 0 0 0 0 0 0 0 0 0 0 0 0 0 0 0 0 0 0 0\n",
      " 0 0 0 0 0 0 0 0 0 0 0 0 0 0 0 0 0 0 0 0 0 0 0 0 0 0 0 0 0 0 0 0 0 0 0 0 0\n",
      " 0 0 0 0 0 0 0 0 0 0 0 0 0 0 0 0 0 0 0 0 0 0 0 0 0 0 0 0 0 0 0 0 0 0 0 0 0\n",
      " 0 0 0 0 0 0 0 0 0 0 0 0 0 0 0 0 0 0] (795,)\n"
     ]
    }
   ],
   "source": [
    "X_scaled, y_scaled = df_train_scaled[features].values, df_train_scaled[label].values\n",
    "print(X_scaled, X_scaled.shape)\n",
    "print(y_scaled, y_scaled.shape)"
   ]
  },
  {
   "cell_type": "code",
   "execution_count": 15,
   "metadata": {
    "ExecuteTime": {
     "end_time": "2022-02-13T18:24:04.612434Z",
     "start_time": "2022-02-13T18:24:04.511392Z"
    }
   },
   "outputs": [
    {
     "name": "stdout",
     "output_type": "stream",
     "text": [
      "(795, 59)\n"
     ]
    },
    {
     "data": {
      "image/png": "[encoded data removed]",
      "text/plain": [
       "<Figure size 432x288 with 1 Axes>"
      ]
     },
     "metadata": {
      "needs_background": "light"
     },
     "output_type": "display_data"
    }
   ],
   "source": [
    "scatter_of_data(X_scaled, y_scaled)"
   ]
  },
  {
   "cell_type": "code",
   "execution_count": null,
   "metadata": {},
   "outputs": [],
   "source": []
  },
  {
   "cell_type": "markdown",
   "metadata": {},
   "source": [
    "## Implementation"
   ]
  },
  {
   "cell_type": "code",
   "execution_count": 43,
   "metadata": {
    "ExecuteTime": {
     "end_time": "2022-02-13T18:38:24.929022Z",
     "start_time": "2022-02-13T18:38:24.910025Z"
    }
   },
   "outputs": [],
   "source": [
    "def prepare_data(X, y):\n",
    "    # one hot encode output variable\n",
    "    y = to_categorical(y)\n",
    "    trainX, testX, trainy, testy = train_test_split(X_scaled, y_scaled, test_size= 0.3, random_state= 0)\n",
    "    return trainX, trainy, testX, testy\n",
    " \n",
    "def fit_model(trainX, trainy, testX, testy, opt_name, opt_value, lrate, momentum):\n",
    "    model = tf.keras.Sequential()\n",
    "    model.add(layers.Dense(50, input_dim=59, activation='relu', kernel_initializer='he_uniform'))\n",
    "    model.add(layers.Dense(1, activation='softmax'))\n",
    "    model.compile(loss='categorical_crossentropy', \n",
    "                  metrics=['accuracy'],\n",
    "                  optimizer=opt_value)\n",
    "    \n",
    "    history = model.fit(trainX, trainy, validation_data=(testX, testy), epochs=100, verbose=0)\n",
    "    pyplot.plot(history.history['accuracy'], label='train')\n",
    "    pyplot.plot(history.history['val_accuracy'], label='test')\n",
    "    pyplot.title('Optimizer:'+str(opt_name)\n",
    "                 +' lrate='+str(lrate)\n",
    "                 +' momentum='+str(momentum)\n",
    "                 +' Accuracy-train:'\n",
    "                 +str(max(history.history['accuracy']))\n",
    "                 +' Accuracy-test:'\n",
    "                 +str(max(history.history['val_accuracy'])), pad=-50)"
   ]
  },
  {
   "cell_type": "code",
   "execution_count": 44,
   "metadata": {
    "ExecuteTime": {
     "end_time": "2022-02-13T18:38:25.273128Z",
     "start_time": "2022-02-13T18:38:25.263136Z"
    }
   },
   "outputs": [],
   "source": [
    "trainX, trainy, testX, testy = prepare_data(X_scaled, y_scaled)"
   ]
  },
  {
   "cell_type": "code",
   "execution_count": null,
   "metadata": {
    "ExecuteTime": {
     "end_time": "2022-02-13T18:37:11.880210Z",
     "start_time": "2022-02-13T18:37:11.861210Z"
    }
   },
   "outputs": [],
   "source": []
  },
  {
   "cell_type": "markdown",
   "metadata": {},
   "source": [
    "### Effect Of different Learning Rates On SGD"
   ]
  },
  {
   "cell_type": "code",
   "execution_count": 45,
   "metadata": {
    "ExecuteTime": {
     "end_time": "2022-02-13T18:39:10.291042Z",
     "start_time": "2022-02-13T18:38:26.190144Z"
    }
   },
   "outputs": [
    {
     "name": "stdout",
     "output_type": "stream",
     "text": [
      "SGD 1.0\n"
     ]
    },
    {
     "data": {
      "image/png": "[encoded data removed]",
      "text/plain": [
       "<Figure size 432x288 with 1 Axes>"
      ]
     },
     "metadata": {
      "needs_background": "light"
     },
     "output_type": "display_data"
    },
    {
     "name": "stdout",
     "output_type": "stream",
     "text": [
      "SGD 0.1\n"
     ]
    },
    {
     "data": {
      "image/png": "[encoded data removed]",
      "text/plain": [
       "<Figure size 432x288 with 1 Axes>"
      ]
     },
     "metadata": {
      "needs_background": "light"
     },
     "output_type": "display_data"
    },
    {
     "name": "stdout",
     "output_type": "stream",
     "text": [
      "SGD 0.01\n"
     ]
    },
    {
     "data": {
      "image/png": "[encoded data removed]",
      "text/plain": [
       "<Figure size 432x288 with 1 Axes>"
      ]
     },
     "metadata": {
      "needs_background": "light"
     },
     "output_type": "display_data"
    },
    {
     "name": "stdout",
     "output_type": "stream",
     "text": [
      "SGD 0.001\n"
     ]
    },
    {
     "data": {
      "image/png": "[encoded data removed]",
      "text/plain": [
       "<Figure size 432x288 with 1 Axes>"
      ]
     },
     "metadata": {
      "needs_background": "light"
     },
     "output_type": "display_data"
    },
    {
     "name": "stdout",
     "output_type": "stream",
     "text": [
      "SGD 0.0001\n"
     ]
    },
    {
     "data": {
      "image/png": "[encoded data removed]",
      "text/plain": [
       "<Figure size 432x288 with 1 Axes>"
      ]
     },
     "metadata": {
      "needs_background": "light"
     },
     "output_type": "display_data"
    },
    {
     "name": "stdout",
     "output_type": "stream",
     "text": [
      "SGD 1e-05\n"
     ]
    },
    {
     "data": {
      "image/png": "[encoded data removed]",
      "text/plain": [
       "<Figure size 432x288 with 1 Axes>"
      ]
     },
     "metadata": {
      "needs_background": "light"
     },
     "output_type": "display_data"
    },
    {
     "name": "stdout",
     "output_type": "stream",
     "text": [
      "SGD 1e-06\n"
     ]
    },
    {
     "data": {
      "image/png": "[encoded data removed]",
      "text/plain": [
       "<Figure size 432x288 with 1 Axes>"
      ]
     },
     "metadata": {
      "needs_background": "light"
     },
     "output_type": "display_data"
    },
    {
     "name": "stdout",
     "output_type": "stream",
     "text": [
      "SGD 1e-07\n"
     ]
    },
    {
     "data": {
      "image/png": "[encoded data removed]",
      "text/plain": [
       "<Figure size 432x288 with 1 Axes>"
      ]
     },
     "metadata": {
      "needs_background": "light"
     },
     "output_type": "display_data"
    }
   ],
   "source": [
    "def SGD(lr):\n",
    "    params = {\n",
    "        'optimizer':[('SGD', tf.keras.optimizers.SGD(learning_rate=lr))]\n",
    "    }\n",
    "    return params, lr\n",
    "\n",
    "\n",
    "learning_rates = [1E-0, 1E-1, 1E-2, 1E-3, 1E-4, 1E-5, 1E-6, 1E-7]\n",
    "momentum = 0.0\n",
    "for i in range(len(learning_rates)):\n",
    "    plot_no = 420 + (i+1)\n",
    "    pyplot.subplot(plot_no)\n",
    "    optimizer, lrate = SGD(learning_rates[i])\n",
    "    optimizer_name = optimizer[\"optimizer\"][0][0]\n",
    "    optimizer_value = optimizer[\"optimizer\"][0][1]\n",
    "    print(optimizer_name, lrate)\n",
    "    fit_model(trainX, trainy, testX, testy, optimizer_name, optimizer_value, lrate, momentum)\n",
    "    pyplot.show()"
   ]
  },
  {
   "cell_type": "markdown",
   "metadata": {},
   "source": [
    "### Effect on different Learning Rate On Different Optimizers"
   ]
  },
  {
   "cell_type": "code",
   "execution_count": null,
   "metadata": {
    "ExecuteTime": {
     "end_time": "2022-02-13T17:36:28.377477Z",
     "start_time": "2022-02-13T17:30:01.890871Z"
    }
   },
   "outputs": [],
   "source": [
    "def get_different_optimizers(lr):\n",
    "    params = {\n",
    "        'optimizer':[('SGD', tf.keras.optimizers.SGD(learning_rate=lr)),\n",
    "                     ('RMSprop', tf.keras.optimizers.RMSprop(learning_rate=lr)),\n",
    "                     ('Adagrad', tf.keras.optimizers.Adagrad(learning_rate=lr)),\n",
    "                     ('Adadelta', tf.keras.optimizers.Adadelta(learning_rate=lr)),\n",
    "                     ('Adam', tf.keras.optimizers.Adam(learning_rate=lr)),\n",
    "                     ('Adamax', tf.keras.optimizers.Adamax(learning_rate=lr)),\n",
    "                     ('Nadam', tf.keras.optimizers.Nadam(learning_rate=lr)) \n",
    "                     ]\n",
    "    }\n",
    "    return params, lr\n",
    "\n",
    "learning_rates = [1E-0, 1E-1, 1E-2, 1E-3, 1E-4, 1E-5, 1E-6, 1E-7]\n",
    "momentum = 0.0\n",
    "for x in range(len(learning_rates)): \n",
    "    plot_no = 420 + (x+1)\n",
    "    pyplot.subplot(plot_no)\n",
    "    optimizer, lrate = get_different_optimizers(learning_rates[x])\n",
    "    for i in range(len(optimizer[\"optimizer\"])):\n",
    "        optimizer_name = optimizer[\"optimizer\"][i][0]\n",
    "        optimizer_value = optimizer[\"optimizer\"][i][1]\n",
    "        print(optimizer_name, lrate)\n",
    "        fit_model(trainX, trainy, testX, testy, optimizer_name, optimizer_value, lrate, momentum)\n",
    "        pyplot.show()"
   ]
  },
  {
   "cell_type": "markdown",
   "metadata": {},
   "source": [
    "### Effect On Learning Curve While Adding Momentum in SGD and RMSProp"
   ]
  },
  {
   "cell_type": "code",
   "execution_count": null,
   "metadata": {
    "ExecuteTime": {
     "end_time": "2022-02-13T17:55:21.421877Z",
     "start_time": "2022-02-13T17:53:50.007731Z"
    }
   },
   "outputs": [],
   "source": [
    "def get_different_optimizers(lr, mo):\n",
    "    params = {\n",
    "        'optimizer':[('SGD', tf.keras.optimizers.SGD(learning_rate=lr, momentum=mo)),\n",
    "                     ('RMSprop', tf.keras.optimizers.RMSprop(learning_rate=lr, momentum=mo))]\n",
    "    }\n",
    "    return params, lr, mo\n",
    "\n",
    "learning_rates = [1E-0, 1E-1, 1E-2, 1E-3, 1E-4, 1E-5, 1E-6, 1E-7]\n",
    "momentums = [0.0, 0.5, 0.9, 0.99]\n",
    "for x in range(len(learning_rates)): \n",
    "    plot_no = 420 + (x+1)\n",
    "    pyplot.subplot(plot_no)\n",
    "    for m in range(len(momentums)):\n",
    "        optimizer, lrate, mom = get_different_optimizers(learning_rates[x], momentums[m])\n",
    "        for i in range(len(optimizer[\"optimizer\"])):\n",
    "            optimizer_name = optimizer[\"optimizer\"][i][0]\n",
    "            optimizer_value = optimizer[\"optimizer\"][i][1]\n",
    "            print(optimizer_name, lrate, mom)\n",
    "            fit_model(trainX, trainy, testX, testy, optimizer_name, optimizer_value, lrate, mom)\n",
    "            pyplot.show()"
   ]
  },
  {
   "cell_type": "code",
   "execution_count": null,
   "metadata": {},
   "outputs": [],
   "source": []
  }
 ],
 "metadata": {
  "kernelspec": {
   "display_name": "Python 3",
   "language": "python",
   "name": "python3"
  },
  "language_info": {
   "codemirror_mode": {
    "name": "ipython",
    "version": 3
   },
   "file_extension": ".py",
   "mimetype": "text/x-python",
   "name": "python",
   "nbconvert_exporter": "python",
   "pygments_lexer": "ipython3",
   "version": "3.7.6"
  },
  "latex_envs": {
   "LaTeX_envs_menu_present": true,
   "autoclose": false,
   "autocomplete": true,
   "bibliofile": "biblio.bib",
   "cite_by": "apalike",
   "current_citInitial": 1,
   "eqLabelWithNumbers": true,
   "eqNumInitial": 1,
   "hotkeys": {
    "equation": "Ctrl-E",
    "itemize": "Ctrl-I"
   },
   "labels_anchors": false,
   "latex_user_defs": false,
   "report_style_numbering": false,
   "user_envs_cfg": false
  },
  "nbTranslate": {
   "displayLangs": [
    "*"
   ],
   "hotkey": "alt-t",
   "langInMainMenu": true,
   "sourceLang": "en",
   "targetLang": "fr",
   "useGoogleTranslate": true
  },
  "toc": {
   "base_numbering": 1,
   "nav_menu": {},
   "number_sections": true,
   "sideBar": true,
   "skip_h1_title": false,
   "title_cell": "Table of Contents",
   "title_sidebar": "Contents",
   "toc_cell": false,
   "toc_position": {},
   "toc_section_display": true,
   "toc_window_display": false
  }
 },
 "nbformat": 4,
 "nbformat_minor": 4
}
